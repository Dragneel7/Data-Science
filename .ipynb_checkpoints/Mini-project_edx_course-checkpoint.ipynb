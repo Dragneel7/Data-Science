{
 "cells": [
  {
   "cell_type": "code",
   "execution_count": 20,
   "metadata": {
    "collapsed": true
   },
   "outputs": [],
   "source": [
    "import numpy as np\n",
    "import pandas as pd\n",
    "import matplotlib.pyplot as plt\n",
    "#import sqlite3"
   ]
  },
  {
   "cell_type": "code",
   "execution_count": 21,
   "metadata": {},
   "outputs": [
    {
     "name": "stderr",
     "output_type": "stream",
     "text": [
      "b'Skipping line 303: expected 22 fields, saw 23\\n'\n"
     ]
    }
   ],
   "source": [
    "data = pd.read_csv(\"hello.csv\", error_bad_lines=False)"
   ]
  },
  {
   "cell_type": "code",
   "execution_count": 22,
   "metadata": {},
   "outputs": [
    {
     "data": {
      "text/html": [
       "<div>\n",
       "<style>\n",
       "    .dataframe thead tr:only-child th {\n",
       "        text-align: right;\n",
       "    }\n",
       "\n",
       "    .dataframe thead th {\n",
       "        text-align: left;\n",
       "    }\n",
       "\n",
       "    .dataframe tbody tr th {\n",
       "        vertical-align: top;\n",
       "    }\n",
       "</style>\n",
       "<table border=\"1\" class=\"dataframe\">\n",
       "  <thead>\n",
       "    <tr style=\"text-align: right;\">\n",
       "      <th></th>\n",
       "      <th>Employee Name</th>\n",
       "      <th>Employee Number</th>\n",
       "      <th>State</th>\n",
       "      <th>Zip</th>\n",
       "      <th>DOB</th>\n",
       "      <th>Age</th>\n",
       "      <th>Sex</th>\n",
       "      <th>MaritalDesc</th>\n",
       "      <th>CitizenDesc</th>\n",
       "      <th>Hispanic/Latino</th>\n",
       "      <th>...</th>\n",
       "      <th>Days Employed</th>\n",
       "      <th>Date of Termination</th>\n",
       "      <th>Reason For Term</th>\n",
       "      <th>Employment Status</th>\n",
       "      <th>Department</th>\n",
       "      <th>Position</th>\n",
       "      <th>Pay Rate</th>\n",
       "      <th>Manager Name</th>\n",
       "      <th>Employee Source</th>\n",
       "      <th>Performance Score</th>\n",
       "    </tr>\n",
       "  </thead>\n",
       "  <tbody>\n",
       "    <tr>\n",
       "      <th>0</th>\n",
       "      <td>Brown, Mia</td>\n",
       "      <td>1103024456</td>\n",
       "      <td>MA</td>\n",
       "      <td>01450</td>\n",
       "      <td>11/24/1985</td>\n",
       "      <td>31</td>\n",
       "      <td>Female</td>\n",
       "      <td>Married</td>\n",
       "      <td>US Citizen</td>\n",
       "      <td>No</td>\n",
       "      <td>...</td>\n",
       "      <td>2780</td>\n",
       "      <td>NaN</td>\n",
       "      <td>N/A - still employed</td>\n",
       "      <td>Active</td>\n",
       "      <td>Admin Offices</td>\n",
       "      <td>Accountant I</td>\n",
       "      <td>28.50</td>\n",
       "      <td>Brandon R. LeBlanc</td>\n",
       "      <td>Diversity Job Fair</td>\n",
       "      <td>Fully Meets</td>\n",
       "    </tr>\n",
       "    <tr>\n",
       "      <th>1</th>\n",
       "      <td>LaRotonda, William</td>\n",
       "      <td>1106026572</td>\n",
       "      <td>MA</td>\n",
       "      <td>01460</td>\n",
       "      <td>4/26/1984</td>\n",
       "      <td>32</td>\n",
       "      <td>Male</td>\n",
       "      <td>Divorced</td>\n",
       "      <td>US Citizen</td>\n",
       "      <td>No</td>\n",
       "      <td>...</td>\n",
       "      <td>883</td>\n",
       "      <td>NaN</td>\n",
       "      <td>N/A - still employed</td>\n",
       "      <td>Active</td>\n",
       "      <td>Admin Offices</td>\n",
       "      <td>Accountant I</td>\n",
       "      <td>23.00</td>\n",
       "      <td>Brandon R. LeBlanc</td>\n",
       "      <td>Website Banner Ads</td>\n",
       "      <td>Fully Meets</td>\n",
       "    </tr>\n",
       "    <tr>\n",
       "      <th>2</th>\n",
       "      <td>Steans, Tyrone</td>\n",
       "      <td>1302053333</td>\n",
       "      <td>MA</td>\n",
       "      <td>02703</td>\n",
       "      <td>9/1/1986</td>\n",
       "      <td>30</td>\n",
       "      <td>Male</td>\n",
       "      <td>Single</td>\n",
       "      <td>US Citizen</td>\n",
       "      <td>No</td>\n",
       "      <td>...</td>\n",
       "      <td>617</td>\n",
       "      <td>NaN</td>\n",
       "      <td>N/A - still employed</td>\n",
       "      <td>Active</td>\n",
       "      <td>Admin Offices</td>\n",
       "      <td>Accountant I</td>\n",
       "      <td>29.00</td>\n",
       "      <td>Brandon R. LeBlanc</td>\n",
       "      <td>Internet Search</td>\n",
       "      <td>Fully Meets</td>\n",
       "    </tr>\n",
       "    <tr>\n",
       "      <th>3</th>\n",
       "      <td>Howard, Estelle</td>\n",
       "      <td>1211050782</td>\n",
       "      <td>MA</td>\n",
       "      <td>02170</td>\n",
       "      <td>9/16/1985</td>\n",
       "      <td>31</td>\n",
       "      <td>Female</td>\n",
       "      <td>Married</td>\n",
       "      <td>US Citizen</td>\n",
       "      <td>No</td>\n",
       "      <td>...</td>\n",
       "      <td>58</td>\n",
       "      <td>4/15/2015</td>\n",
       "      <td>N/A - still employed</td>\n",
       "      <td>Active</td>\n",
       "      <td>Admin Offices</td>\n",
       "      <td>Administrative Assistant</td>\n",
       "      <td>21.50</td>\n",
       "      <td>Brandon R. LeBlanc</td>\n",
       "      <td>Pay Per Click - Google</td>\n",
       "      <td>N/A- too early to review</td>\n",
       "    </tr>\n",
       "    <tr>\n",
       "      <th>4</th>\n",
       "      <td>Singh, Nan</td>\n",
       "      <td>1307059817</td>\n",
       "      <td>MA</td>\n",
       "      <td>02330</td>\n",
       "      <td>5/19/1988</td>\n",
       "      <td>28</td>\n",
       "      <td>Female</td>\n",
       "      <td>Single</td>\n",
       "      <td>US Citizen</td>\n",
       "      <td>No</td>\n",
       "      <td>...</td>\n",
       "      <td>403</td>\n",
       "      <td>NaN</td>\n",
       "      <td>N/A - still employed</td>\n",
       "      <td>Active</td>\n",
       "      <td>Admin Offices</td>\n",
       "      <td>Administrative Assistant</td>\n",
       "      <td>16.56</td>\n",
       "      <td>Brandon R. LeBlanc</td>\n",
       "      <td>Website Banner Ads</td>\n",
       "      <td>N/A- too early to review</td>\n",
       "    </tr>\n",
       "  </tbody>\n",
       "</table>\n",
       "<p>5 rows × 22 columns</p>\n",
       "</div>"
      ],
      "text/plain": [
       "          Employee Name Employee Number State         Zip         DOB Age  \\\n",
       "0            Brown, Mia      1103024456    MA       01450  11/24/1985  31   \n",
       "1  LaRotonda, William        1106026572    MA       01460   4/26/1984  32   \n",
       "2      Steans, Tyrone        1302053333    MA  02703         9/1/1986  30   \n",
       "3       Howard, Estelle      1211050782    MA       02170   9/16/1985  31   \n",
       "4           Singh, Nan       1307059817    MA  02330        5/19/1988  28   \n",
       "\n",
       "      Sex MaritalDesc CitizenDesc Hispanic/Latino            ...             \\\n",
       "0  Female     Married  US Citizen              No            ...              \n",
       "1    Male    Divorced  US Citizen              No            ...              \n",
       "2    Male      Single  US Citizen              No            ...              \n",
       "3  Female     Married  US Citizen              No            ...              \n",
       "4  Female      Single  US Citizen              No            ...              \n",
       "\n",
       "  Days Employed Date of Termination       Reason For Term Employment Status  \\\n",
       "0          2780                 NaN  N/A - still employed            Active   \n",
       "1           883                 NaN  N/A - still employed            Active   \n",
       "2           617                 NaN  N/A - still employed            Active   \n",
       "3            58           4/15/2015  N/A - still employed            Active   \n",
       "4           403                 NaN  N/A - still employed            Active   \n",
       "\n",
       "      Department                  Position Pay Rate        Manager Name  \\\n",
       "0  Admin Offices              Accountant I    28.50  Brandon R. LeBlanc   \n",
       "1  Admin Offices              Accountant I    23.00  Brandon R. LeBlanc   \n",
       "2  Admin Offices              Accountant I    29.00  Brandon R. LeBlanc   \n",
       "3  Admin Offices  Administrative Assistant    21.50  Brandon R. LeBlanc   \n",
       "4  Admin Offices  Administrative Assistant    16.56  Brandon R. LeBlanc   \n",
       "\n",
       "          Employee Source         Performance Score  \n",
       "0      Diversity Job Fair               Fully Meets  \n",
       "1      Website Banner Ads               Fully Meets  \n",
       "2         Internet Search               Fully Meets  \n",
       "3  Pay Per Click - Google  N/A- too early to review  \n",
       "4      Website Banner Ads  N/A- too early to review  \n",
       "\n",
       "[5 rows x 22 columns]"
      ]
     },
     "execution_count": 22,
     "metadata": {},
     "output_type": "execute_result"
    }
   ],
   "source": [
    "data.head(5)\n",
    "#data.describe()\n"
   ]
  },
  {
   "cell_type": "code",
   "execution_count": 23,
   "metadata": {
    "collapsed": true
   },
   "outputs": [],
   "source": [
    "#data.iloc[0]"
   ]
  },
  {
   "cell_type": "markdown",
   "metadata": {
    "collapsed": true
   },
   "source": [
    "# Questions to consider\n",
    "#Q1.) The Relation between race of a person and his employment status\n",
    "#Q2.) The Relation between between a person's race and the money he earns\n",
    "#Q3.) A person's marital status and his employment status\n",
    "#Q4.) Age group and Employement status\n",
    "#Q5.) Sex and Employement status, money earned\n",
    "#Q6.) relation of an employe's performance score with all other paramenter"
   ]
  },
  {
   "cell_type": "code",
   "execution_count": 25,
   "metadata": {
    "collapsed": true
   },
   "outputs": [],
   "source": [
    "#1.) using various graphs and pearson's coefficient to arrive at the result"
   ]
  },
  {
   "cell_type": "code",
   "execution_count": 26,
   "metadata": {},
   "outputs": [
    {
     "data": {
      "text/plain": [
       "['Employee Name',\n",
       " 'Employee Number',\n",
       " 'State',\n",
       " 'Zip',\n",
       " 'DOB',\n",
       " 'Age',\n",
       " 'Sex',\n",
       " 'MaritalDesc',\n",
       " 'CitizenDesc',\n",
       " 'Hispanic/Latino',\n",
       " 'RaceDesc',\n",
       " 'Date of Hire',\n",
       " 'Days Employed',\n",
       " 'Date of Termination',\n",
       " 'Reason For Term',\n",
       " 'Employment Status',\n",
       " 'Department',\n",
       " 'Position',\n",
       " 'Pay Rate',\n",
       " 'Manager Name',\n",
       " 'Employee Source',\n",
       " 'Performance Score']"
      ]
     },
     "execution_count": 26,
     "metadata": {},
     "output_type": "execute_result"
    }
   ],
   "source": [
    "list(data)"
   ]
  },
  {
   "cell_type": "code",
   "execution_count": 27,
   "metadata": {
    "collapsed": true
   },
   "outputs": [],
   "source": [
    "data_truncated = data[:301]"
   ]
  },
  {
   "cell_type": "code",
   "execution_count": 28,
   "metadata": {},
   "outputs": [
    {
     "data": {
      "text/plain": [
       "301"
      ]
     },
     "execution_count": 28,
     "metadata": {},
     "output_type": "execute_result"
    }
   ],
   "source": [
    "len(data_truncated)"
   ]
  },
  {
   "cell_type": "code",
   "execution_count": 29,
   "metadata": {
    "collapsed": true
   },
   "outputs": [],
   "source": [
    "mask1 = data_truncated['Age']\n",
    "mask2 = data_truncated['Sex']\n",
    "mask3 = data_truncated['MaritalDesc']\n",
    "mask4 = data_truncated['RaceDesc']\n",
    "mask5 = data_truncated['Employment Status']\n",
    "mask6 = data_truncated['Pay Rate']\n"
   ]
  },
  {
   "cell_type": "code",
   "execution_count": 30,
   "metadata": {},
   "outputs": [
    {
     "data": {
      "text/plain": [
       "array(['Active', 'Future Start', 'Leave of Absence',\n",
       "       'Terminated for Cause', 'Voluntarily Terminated'], dtype=object)"
      ]
     },
     "execution_count": 30,
     "metadata": {},
     "output_type": "execute_result"
    }
   ],
   "source": [
    "#to check if all the data masked have equal lengths\n",
    "np.unique(mask5.values)\n",
    "#for i in range(1,7):\n",
    " #   print(len(globals()['mask'+str(i)]))\n",
    "    \n",
    "    "
   ]
  },
  {
   "cell_type": "code",
   "execution_count": 31,
   "metadata": {},
   "outputs": [
    {
     "name": "stdout",
     "output_type": "stream",
     "text": [
      "American Indian or Alaska Native : 3\n",
      "Asian : 15\n",
      "Black or African American : 33\n",
      "Hispanic : 2\n",
      "Two or more races : 9\n",
      "White : 112\n"
     ]
    }
   ],
   "source": [
    "#The relation between the race of a person and his employment status\n",
    "#different races of people\n",
    "people_race = np.unique(mask4.values)\n",
    "mask5_employed = data_truncated['Employment Status'].str.contains('Active')\n",
    "stage = data_truncated[mask5_employed & mask4]\n",
    "\n",
    "for i in range(0,len(people_race)):\n",
    "   print(people_race[i],\":\",len(stage[stage['RaceDesc'] == people_race[i]]))\n",
    "#   value[i] = len(stage[stage['RaceDesc']==people_race[i]])\n",
    "\n"
   ]
  },
  {
   "cell_type": "code",
   "execution_count": 141,
   "metadata": {},
   "outputs": [
    {
     "data": {
      "text/plain": [
       "5738.9700000000003"
      ]
     },
     "execution_count": 141,
     "metadata": {},
     "output_type": "execute_result"
    }
   ],
   "source": [
    "#the results show that of all the people majority of them are white\n",
    "#sub part dipicting the analysis in scatter plot\n",
    "#plt.bar(value,people_race)\n",
    "#plt.plot(gdp)\n",
    "stage =  data_truncated[['RaceDesc','Pay Rate','Employment Status']]\n",
    "stage = stage[stage['Employment Status'] == 'Active']\n",
    "stage_pay = stage['Pay Rate'].values.tolist()\n",
    "for i in range(0,len(stage)):\n",
    "    stage_pay[i] = float(stage_pay[i])\n",
    "stage_pay = np.array(stage_pay) \n",
    "stage['Pay Rate']  = stage_pay\n",
    "# Pay of active employess converted from Str to float point type"
   ]
  },
  {
   "cell_type": "code",
   "execution_count": 145,
   "metadata": {},
   "outputs": [
    {
     "name": "stdout",
     "output_type": "stream",
     "text": [
      "American Indian or Alaska Native  :  31.5\n",
      "Asian  :  29.3606666667\n",
      "Black or African American  :  34.6881818182\n",
      "Hispanic  :  58.0\n",
      "Two or more races  :  35.3622222222\n",
      "White  :  32.366875\n"
     ]
    }
   ],
   "source": [
    "for i in np.unique(stage['RaceDesc']):\n",
    "    print(i,\" : \",sum(stage['Pay Rate'][stage['RaceDesc'] == i])/len(stage[stage['RaceDesc'] == i]))"
   ]
  },
  {
   "cell_type": "markdown",
   "metadata": {},
   "source": [
    "#from the above data it can be computed that at an average a person of two or more races earns the most"
   ]
  },
  {
   "cell_type": "code",
   "execution_count": 45,
   "metadata": {},
   "outputs": [],
   "source": [
    "# a person's marital status and his employemnt status\n",
    "Marital_status = np.unique(mask3.values)"
   ]
  },
  {
   "cell_type": "code",
   "execution_count": 57,
   "metadata": {},
   "outputs": [
    {
     "data": {
      "text/html": [
       "<div>\n",
       "<style>\n",
       "    .dataframe thead tr:only-child th {\n",
       "        text-align: right;\n",
       "    }\n",
       "\n",
       "    .dataframe thead th {\n",
       "        text-align: left;\n",
       "    }\n",
       "\n",
       "    .dataframe tbody tr th {\n",
       "        vertical-align: top;\n",
       "    }\n",
       "</style>\n",
       "<table border=\"1\" class=\"dataframe\">\n",
       "  <thead>\n",
       "    <tr style=\"text-align: right;\">\n",
       "      <th></th>\n",
       "      <th>MaritalDesc</th>\n",
       "      <th>Employment Status</th>\n",
       "    </tr>\n",
       "  </thead>\n",
       "  <tbody>\n",
       "    <tr>\n",
       "      <th>0</th>\n",
       "      <td>Married</td>\n",
       "      <td>Active</td>\n",
       "    </tr>\n",
       "    <tr>\n",
       "      <th>1</th>\n",
       "      <td>Divorced</td>\n",
       "      <td>Active</td>\n",
       "    </tr>\n",
       "    <tr>\n",
       "      <th>2</th>\n",
       "      <td>Single</td>\n",
       "      <td>Active</td>\n",
       "    </tr>\n",
       "    <tr>\n",
       "      <th>3</th>\n",
       "      <td>Married</td>\n",
       "      <td>Active</td>\n",
       "    </tr>\n",
       "    <tr>\n",
       "      <th>4</th>\n",
       "      <td>Single</td>\n",
       "      <td>Active</td>\n",
       "    </tr>\n",
       "  </tbody>\n",
       "</table>\n",
       "</div>"
      ],
      "text/plain": [
       "  MaritalDesc Employment Status\n",
       "0     Married            Active\n",
       "1    Divorced            Active\n",
       "2      Single            Active\n",
       "3     Married            Active\n",
       "4      Single            Active"
      ]
     },
     "execution_count": 57,
     "metadata": {},
     "output_type": "execute_result"
    }
   ],
   "source": [
    "stage = data_truncated[['MaritalDesc','Employment Status']]\n",
    "stage.head()"
   ]
  },
  {
   "cell_type": "code",
   "execution_count": 59,
   "metadata": {},
   "outputs": [
    {
     "name": "stdout",
     "output_type": "stream",
     "text": [
      "Divorced  :  30\n",
      "Married  :  119\n",
      "Separated  :  14\n",
      "Single  :  127\n",
      "widowed  :  11\n"
     ]
    }
   ],
   "source": [
    "for i in Marital_status:\n",
    "    print(i,\" : \",len(stage['Employment Status'][stage['MaritalDesc']==i]))"
   ]
  },
  {
   "cell_type": "markdown",
   "metadata": {},
   "source": [
    "#fromthe above test we infered that Single people have a higher chances of being selected for a job followed By Married people"
   ]
  },
  {
   "cell_type": "code",
   "execution_count": 69,
   "metadata": {},
   "outputs": [
    {
     "data": {
      "text/html": [
       "<div>\n",
       "<style>\n",
       "    .dataframe thead tr:only-child th {\n",
       "        text-align: right;\n",
       "    }\n",
       "\n",
       "    .dataframe thead th {\n",
       "        text-align: left;\n",
       "    }\n",
       "\n",
       "    .dataframe tbody tr th {\n",
       "        vertical-align: top;\n",
       "    }\n",
       "</style>\n",
       "<table border=\"1\" class=\"dataframe\">\n",
       "  <thead>\n",
       "    <tr style=\"text-align: right;\">\n",
       "      <th></th>\n",
       "      <th>Employment Status</th>\n",
       "      <th>Age</th>\n",
       "    </tr>\n",
       "  </thead>\n",
       "  <tbody>\n",
       "    <tr>\n",
       "      <th>0</th>\n",
       "      <td>Active</td>\n",
       "      <td>31</td>\n",
       "    </tr>\n",
       "    <tr>\n",
       "      <th>1</th>\n",
       "      <td>Active</td>\n",
       "      <td>32</td>\n",
       "    </tr>\n",
       "    <tr>\n",
       "      <th>2</th>\n",
       "      <td>Active</td>\n",
       "      <td>30</td>\n",
       "    </tr>\n",
       "    <tr>\n",
       "      <th>3</th>\n",
       "      <td>Active</td>\n",
       "      <td>31</td>\n",
       "    </tr>\n",
       "    <tr>\n",
       "      <th>4</th>\n",
       "      <td>Active</td>\n",
       "      <td>28</td>\n",
       "    </tr>\n",
       "  </tbody>\n",
       "</table>\n",
       "</div>"
      ],
      "text/plain": [
       "  Employment Status Age\n",
       "0            Active  31\n",
       "1            Active  32\n",
       "2            Active  30\n",
       "3            Active  31\n",
       "4            Active  28"
      ]
     },
     "execution_count": 69,
     "metadata": {},
     "output_type": "execute_result"
    }
   ],
   "source": [
    "age_group = np.unique(mask1.values)\n",
    "age_group\n",
    "\n",
    "stage = data_truncated[mask5_employed & mask1]\n",
    "stage = stage[['Employment Status','Age']]\n",
    "stage.head()"
   ]
  },
  {
   "cell_type": "code",
   "execution_count": 71,
   "metadata": {},
   "outputs": [
    {
     "name": "stdout",
     "output_type": "stream",
     "text": [
      "24  :  2\n",
      "25  :  2\n",
      "26  :  4\n",
      "27  :  9\n",
      "28  :  12\n",
      "29  :  8\n",
      "30  :  10\n",
      "31  :  10\n",
      "32  :  8\n",
      "33  :  11\n",
      "34  :  6\n",
      "35  :  8\n",
      "36  :  5\n",
      "37  :  12\n",
      "38  :  7\n",
      "39  :  7\n",
      "40  :  4\n",
      "41  :  4\n",
      "42  :  6\n",
      "43  :  5\n",
      "44  :  1\n",
      "45  :  1\n",
      "46  :  5\n",
      "47  :  4\n",
      "48  :  5\n",
      "49  :  3\n",
      "50  :  3\n",
      "51  :  3\n",
      "52  :  1\n",
      "53  :  3\n",
      "55  :  1\n",
      "57  :  1\n",
      "58  :  0\n",
      "61  :  0\n",
      "62  :  2\n",
      "63  :  0\n",
      "64  :  0\n",
      "65  :  1\n"
     ]
    }
   ],
   "source": [
    "for i in age_group:\n",
    "    print(i,\" : \",len(stage['Employment Status'][stage['Age'] == i]))"
   ]
  },
  {
   "cell_type": "code",
   "execution_count": 151,
   "metadata": {},
   "outputs": [],
   "source": [
    "\n",
    "stage = data_truncated[['Employment Status','Sex','Pay Rate']][data_truncated['Employment Status'] == 'Active']\n",
    "stage['Pay Rate'] = stage_pay\n",
    "\n"
   ]
  },
  {
   "cell_type": "code",
   "execution_count": 154,
   "metadata": {},
   "outputs": [
    {
     "name": "stdout",
     "output_type": "stream",
     "text": [
      "Female  :  98  ,average money earned  31.6042857143\n",
      "Male  :  76  ,average money earned  34.7598684211\n"
     ]
    }
   ],
   "source": [
    "for i in np.unique(stage['Sex'].values):\n",
    "    total = len(stage['Employment Status'][stage['Sex'] == i])\n",
    "    print(i,\" : \",total,\" ,average money earned \", sum(stage['Pay Rate'][stage['Sex'] == i])/total)"
   ]
  },
  {
   "cell_type": "markdown",
   "metadata": {},
   "source": [
    "###### thus it is revealed that in all the Active employess a major portion is that of females but on an average a male employee earns more"
   ]
  },
  {
   "cell_type": "code",
   "execution_count": 156,
   "metadata": {
    "collapsed": true
   },
   "outputs": [],
   "source": [
    "#The effects of various factor on pay scale requires concepts of ML to be done after Week 7"
   ]
  },
  {
   "cell_type": "code",
   "execution_count": null,
   "metadata": {
    "collapsed": true
   },
   "outputs": [],
   "source": []
  }
 ],
 "metadata": {
  "kernelspec": {
   "display_name": "Python 3",
   "language": "python",
   "name": "python3"
  },
  "language_info": {
   "codemirror_mode": {
    "name": "ipython",
    "version": 3
   },
   "file_extension": ".py",
   "mimetype": "text/x-python",
   "name": "python",
   "nbconvert_exporter": "python",
   "pygments_lexer": "ipython3",
   "version": "3.5.2"
  }
 },
 "nbformat": 4,
 "nbformat_minor": 2
}
